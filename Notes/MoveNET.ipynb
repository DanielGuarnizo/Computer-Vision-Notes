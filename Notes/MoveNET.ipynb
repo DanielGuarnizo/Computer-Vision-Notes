{
 "cells": [
  {
   "cell_type": "code",
   "execution_count": 1,
   "metadata": {},
   "outputs": [],
   "source": [
    "\n",
    "import tensorflow as tf \n",
    "import numpy as np \n",
    "from matplotlib import pyplot as plt \n",
    "import cv2"
   ]
  },
  {
   "attachments": {},
   "cell_type": "markdown",
   "metadata": {},
   "source": [
    "#### - LOAD A MODEL"
   ]
  },
  {
   "cell_type": "code",
   "execution_count": 2,
   "metadata": {},
   "outputs": [],
   "source": [
    "#interpreter = tf.lite.Interpreter(model_path=\"Model/lite-model_movenet_singlepose_lightning_3.tflite\")\n",
    "interpreter = tf.lite.Interpreter(model_path=\"Model/lite-model_movenet_singlepose_thunder_3.tflite\")\n",
    "interpreter.allocate_tensors()"
   ]
  },
  {
   "cell_type": "code",
   "execution_count": 3,
   "metadata": {},
   "outputs": [
    {
     "name": "stdout",
     "output_type": "stream",
     "text": [
      "[{'name': 'serving_default_input:0', 'index': 0, 'shape': array([  1, 256, 256,   3], dtype=int32), 'shape_signature': array([  1, 256, 256,   3], dtype=int32), 'dtype': <class 'numpy.float32'>, 'quantization': (0.0, 0), 'quantization_parameters': {'scales': array([], dtype=float32), 'zero_points': array([], dtype=int32), 'quantized_dimension': 0}, 'sparsity_parameters': {}}]\n"
     ]
    }
   ],
   "source": [
    "input_details = interpreter.get_input_details()\n",
    "output_details = interpreter.get_output_details()\n",
    "\n",
    "print(input_details)"
   ]
  },
  {
   "attachments": {},
   "cell_type": "markdown",
   "metadata": {},
   "source": [
    "#### - MAKE DETECTIONS"
   ]
  },
  {
   "attachments": {},
   "cell_type": "markdown",
   "metadata": {},
   "source": [
    "## <font color=yellow> 3.Draw Keypoints"
   ]
  },
  {
   "attachments": {},
   "cell_type": "markdown",
   "metadata": {},
   "source": [
    "#### - hos squeez function works"
   ]
  },
  {
   "cell_type": "code",
   "execution_count": 4,
   "metadata": {},
   "outputs": [
    {
     "name": "stdout",
     "output_type": "stream",
     "text": [
      "(1, 3, 1)\n",
      "(3,)\n",
      "[0 1 2]\n"
     ]
    }
   ],
   "source": [
    "\n",
    "import numpy as np\n",
    "\n",
    "# Create an array with a single-dimensional entry in its shape\n",
    "x = np.array([[[0], [1], [2]]])\n",
    "print(x.shape) # (1, 3, 1)\n",
    "\n",
    "# Remove the single-dimensional entry from the shape of the array\n",
    "y = np.squeeze(x)\n",
    "print(y.shape) # (3,)\n",
    "print(y)"
   ]
  },
  {
   "attachments": {},
   "cell_type": "markdown",
   "metadata": {},
   "source": [
    "#### - function render "
   ]
  },
  {
   "cell_type": "code",
   "execution_count": 5,
   "metadata": {},
   "outputs": [],
   "source": [
    "def draw_keypoints(frame, keypoints, confidence_threshold):\n",
    "    y, x, c= frame.shape\n",
    "    shaped = np.squeeze(np.multiply(keypoints, [y, x, 1]))\n",
    "\n",
    "    for kp in shaped:\n",
    "        ky,kx,kp_conf = kp\n",
    "\n",
    "        if kp_conf > confidence_threshold:\n",
    "            cv2.circle(frame, (int(kx), int(ky)), 4, (0,255,0), -1)"
   ]
  },
  {
   "attachments": {},
   "cell_type": "markdown",
   "metadata": {},
   "source": [
    "## <font color=yellow> 4.Draw Edges"
   ]
  },
  {
   "cell_type": "code",
   "execution_count": 6,
   "metadata": {},
   "outputs": [],
   "source": [
    "EDGES = {\n",
    "    (0, 1): 'm',\n",
    "    (0, 2): 'c',\n",
    "    (1, 3): 'm',\n",
    "    (2, 4): 'c',\n",
    "    (0, 5): 'm',\n",
    "    (0, 6): 'c',\n",
    "    (5, 7): 'm',\n",
    "    (7, 9): 'm',\n",
    "    (6, 8): 'c',\n",
    "    (8, 10): 'c',\n",
    "    (5, 6): 'y',\n",
    "    (5, 11): 'm',\n",
    "    (6, 12): 'c',\n",
    "    (11, 12): 'y',\n",
    "    (11, 13): 'm',\n",
    "    (13, 15): 'm',\n",
    "    (12, 14): 'c',\n",
    "    (14, 16): 'c'\n",
    "}\n"
   ]
  },
  {
   "cell_type": "code",
   "execution_count": 7,
   "metadata": {},
   "outputs": [],
   "source": [
    "def draw_connections(frame, keypoints, edges, confidence_threshold):\n",
    "    y, x, c = frame.shape\n",
    "    shaped = np.squeeze(np.multiply(keypoints, [y,x,1]))\n",
    "    \n",
    "    for edge, color in edges.items():\n",
    "        p1, p2 = edge\n",
    "        y1, x1, c1 = shaped[p1]\n",
    "        y2, x2, c2 = shaped[p2]\n",
    "        \n",
    "        if (c1 > confidence_threshold) & (c2 > confidence_threshold):      \n",
    "            cv2.line(frame, (int(x1), int(y1)), (int(x2), int(y2)), (0,0,255), 2)"
   ]
  },
  {
   "cell_type": "code",
   "execution_count": 13,
   "metadata": {},
   "outputs": [
    {
     "data": {
      "text/plain": [
       "-1"
      ]
     },
     "execution_count": 13,
     "metadata": {},
     "output_type": "execute_result"
    }
   ],
   "source": [
    "cap = cv2.VideoCapture(0) # the number said the webcam you will use, more webcams more nymbers which you can play \n",
    "\n",
    "cv2.startWindowThread()\n",
    "while cap.isOpened():\n",
    "    ret, frame = cap.read()\n",
    "\n",
    "    # Reshape image: because model expect a input image of 192x192x3\n",
    "    img = frame.copy()\n",
    "    img = tf.image.resize_with_pad(np.expand_dims(img, axis=0), 256,256)\n",
    "    #img = tf.image.resize_with_pad(np.expand_dims(img, axis=0), 192,192)\n",
    "        #% tf.image.resize_with_pad:\n",
    "        #@ is a tensorflow function which resize a image adding padding if needed to mantaing the proportion of the img\n",
    "\n",
    "        #% np.expand_dims(img, axis=0):(encapsulate in another array, axis=0 number of new dimenstion + 1)\n",
    "        #@ is the first argument we pass to that function, which adds a new axis to the image array because the tf\n",
    "        #@ function expect a 4D array because the first argument is the batch size and given that is a single image \n",
    "        #@ we only put 1 in that argument\n",
    "\n",
    "        #@ the last two argument are the height and width arguments \n",
    "\n",
    "    # we cast our image (we convert the data type to another data type), given that the model expect \n",
    "    # a image in that specific data type \n",
    "    input_image = tf.cast(img, dtype=tf.float32)\n",
    "\n",
    "\n",
    "    #Set up input ann output \n",
    "    input_details = interpreter.get_input_details()\n",
    "    output_details = interpreter.get_output_details()\n",
    "\n",
    "    # Make predictions\n",
    "\n",
    "    interpreter.set_tensor(input_details[0][\"index\"], np.array(input_image))\n",
    "        #@ set the value of a tensor in the interpreter , the first argument indicates the position and second what will be in to it \n",
    "    interpreter.invoke()\n",
    "        #@ use this method to run inference in the input data, that means we will use the image given to put in the model lite \n",
    "    keypoints_with_scores = interpreter.get_tensor(output_details[0][\"index\"])\n",
    "        #@ get_tensor: is a copy of the tensor data \n",
    "        #@ that index extract from the output_detail will hold the index in which our output resolt is in the interpretor \n",
    "    #print(keypoints_with_scores)\n",
    "\n",
    "    # Rendering \n",
    "    draw_connections(frame, keypoints_with_scores, EDGES, 0.4)\n",
    "    draw_keypoints(frame, keypoints_with_scores[0][0], 0.4)\n",
    "\n",
    "\n",
    "    cv2.imshow(\"MoveNet lighting\", frame)\n",
    "    cv2.resizeWindow('image', 600, 1200)\n",
    "\n",
    "    if cv2.waitKey(1) & 0xFF == ord(\"q\"):\n",
    "        break \n",
    "\n",
    "                \n",
    "    \n",
    "\n",
    "cap.release()\n",
    "cv2.waitKey(1)\n",
    "cv2.destroyAllWindows()\n",
    "cv2.waitKey(1)"
   ]
  }
 ],
 "metadata": {
  "kernelspec": {
   "display_name": "tensorflow",
   "language": "python",
   "name": "python3"
  },
  "language_info": {
   "codemirror_mode": {
    "name": "ipython",
    "version": 3
   },
   "file_extension": ".py",
   "mimetype": "text/x-python",
   "name": "python",
   "nbconvert_exporter": "python",
   "pygments_lexer": "ipython3",
   "version": "3.9.17"
  },
  "orig_nbformat": 4,
  "vscode": {
   "interpreter": {
    "hash": "ff8880d2f4c4f0287ff51a1fdfe24c4728f28186befd2bb57d13118edd5ecb9b"
   }
  }
 },
 "nbformat": 4,
 "nbformat_minor": 2
}
