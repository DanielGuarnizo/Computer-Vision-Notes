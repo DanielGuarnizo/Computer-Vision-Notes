{
 "cells": [
  {
   "cell_type": "code",
   "execution_count": null,
   "metadata": {},
   "outputs": [],
   "source": []
  }
 ],
 "metadata": {
  "kernelspec": {
   "display_name": "base",
   "language": "python",
   "name": "python3"
  },
  "language_info": {
   "name": "python",
   "version": "3.9.16"
  },
  "orig_nbformat": 4,
  "vscode": {
   "interpreter": {
    "hash": "35e53101bd0d66bc69c5af7be29741f8f2ce3039903f322d3356d2f6a30c89c8"
   }
  }
 },
 "nbformat": 4,
 "nbformat_minor": 2
}
