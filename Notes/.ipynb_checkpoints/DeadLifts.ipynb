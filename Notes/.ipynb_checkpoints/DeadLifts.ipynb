{
 "cells": [
  {
   "cell_type": "code",
   "execution_count": null,
   "metadata": {},
   "outputs": [],
   "source": []
  }
 ],
 "metadata": {
  "kernelspec": {
   "display_name": "myenv",
   "language": "python",
   "name": "python3"
  },
  "language_info": {
   "name": "python",
   "version": "3.11.2"
  },
  "orig_nbformat": 4,
  "vscode": {
   "interpreter": {
    "hash": "57cb1e3b8e05dde77760da1246e18f8c4eea9a1644946c120c33c45d19127970"
   }
  }
 },
 "nbformat": 4,
 "nbformat_minor": 2
}
